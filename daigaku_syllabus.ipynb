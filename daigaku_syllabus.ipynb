{
 "cells": [
  {
   "cell_type": "code",
   "execution_count": null,
   "metadata": {
    "colab": {
     "base_uri": "https://localhost:8080/"
    },
    "executionInfo": {
     "elapsed": 2134,
     "status": "ok",
     "timestamp": 1753169316443,
     "user": {
      "displayName": "高木颯",
      "userId": "04463275819820463396"
     },
     "user_tz": -540
    },
    "id": "qnWupJPViXay",
    "outputId": "ccbddf6a-4b1c-4213-f796-b338aba5fba3"
   },
   "outputs": [
    {
     "data": {
      "text/plain": [
       "'\\n# Google Driveをマウント\\nfrom google.colab import drive\\ndrive.mount(\\'/content/drive\\')\\n\\n# 作業フォルダに移動\\n# %cd \"/content/drive/MyDrive/Colab Notebooks/~~~~\\n'"
      ]
     },
     "execution_count": 1,
     "metadata": {},
     "output_type": "execute_result"
    }
   ],
   "source": [
    "#以下はgoogle colab内で実行しない場合は必要ないが、作業フォルダ内には移動しておく\n",
    "\"\"\"\n",
    "# Google Driveをマウント\n",
    "from google.colab import drive\n",
    "drive.mount('/content/drive')\n",
    "\n",
    "# 作業フォルダに移動\n",
    "# %cd \"/content/drive/MyDrive/Colab Notebooks/~~~~\n",
    "\"\"\""
   ]
  },
  {
   "cell_type": "code",
   "execution_count": 6,
   "metadata": {
    "colab": {
     "base_uri": "https://localhost:8080/"
    },
    "executionInfo": {
     "elapsed": 68755,
     "status": "ok",
     "timestamp": 1753169493176,
     "user": {
      "displayName": "高木颯",
      "userId": "04463275819820463396"
     },
     "user_tz": -540
    },
    "id": "FIJe_K1Liu5y",
    "outputId": "b3528235-e2b2-4752-fca6-a172e179bb28"
   },
   "outputs": [
    {
     "name": "stdout",
     "output_type": "stream",
     "text": [
      "Hit:1 http://archive.ubuntu.com/ubuntu jammy InRelease\n",
      "Hit:2 http://archive.ubuntu.com/ubuntu jammy-updates InRelease\n",
      "Hit:3 http://security.ubuntu.com/ubuntu jammy-security InRelease\n",
      "Get:4 https://cloud.r-project.org/bin/linux/ubuntu jammy-cran40/ InRelease [3,632 B]\n",
      "Hit:5 https://developer.download.nvidia.com/compute/cuda/repos/ubuntu2204/x86_64  InRelease\n",
      "Hit:6 http://archive.ubuntu.com/ubuntu jammy-backports InRelease\n",
      "Hit:7 https://r2u.stat.illinois.edu/ubuntu jammy InRelease\n",
      "Hit:8 https://ppa.launchpadcontent.net/deadsnakes/ppa/ubuntu jammy InRelease\n",
      "Hit:9 https://ppa.launchpadcontent.net/graphics-drivers/ppa/ubuntu jammy InRelease\n",
      "Hit:10 https://ppa.launchpadcontent.net/ubuntugis/ppa/ubuntu jammy InRelease\n",
      "Hit:11 https://dl.google.com/linux/chrome/deb stable InRelease\n",
      "Fetched 3,632 B in 5s (697 B/s)\n",
      "Reading package lists...\n",
      "W: Skipping acquire of configured file 'main/source/Sources' as repository 'https://r2u.stat.illinois.edu/ubuntu jammy InRelease' does not seem to provide it (sources.list entry misspelt?)\n",
      "--2025-07-22 07:32:00--  https://dl.google.com/linux/direct/google-chrome-stable_current_amd64.deb\n",
      "Resolving dl.google.com (dl.google.com)... 74.125.69.91, 74.125.69.93, 74.125.69.190, ...\n",
      "Connecting to dl.google.com (dl.google.com)|74.125.69.91|:443... connected.\n",
      "HTTP request sent, awaiting response... 200 OK\n",
      "Length: 118188228 (113M) [application/x-debian-package]\n",
      "Saving to: ‘google-chrome-stable_current_amd64.deb’\n",
      "\n",
      "google-chrome-stabl 100%[===================>] 112.71M  43.4MB/s    in 2.6s    \n",
      "\n",
      "2025-07-22 07:32:04 (43.4 MB/s) - ‘google-chrome-stable_current_amd64.deb’ saved [118188228/118188228]\n",
      "\n",
      "(Reading database ... 126440 files and directories currently installed.)\n",
      "Preparing to unpack google-chrome-stable_current_amd64.deb ...\n",
      "Unpacking google-chrome-stable (138.0.7204.157-1) over (138.0.7204.157-1) ...\n",
      "Setting up google-chrome-stable (138.0.7204.157-1) ...\n",
      "Processing triggers for mailcap (3.70+nmu1ubuntu1) ...\n",
      "Processing triggers for man-db (2.10.2-1) ...\n",
      "Reading package lists...\n",
      "Building dependency tree...\n",
      "Reading state information...\n",
      "0 upgraded, 0 newly installed, 0 to remove and 37 not upgraded.\n"
     ]
    }
   ],
   "source": [
    "!pip install selenium -q\n",
    "!apt-get update -q\n",
    "!wget https://dl.google.com/linux/direct/google-chrome-stable_current_amd64.deb\n",
    "!dpkg -i google-chrome-stable_current_amd64.deb\n",
    "!apt-get install -f -y -q\n",
    "!rm google-chrome-stable_current_amd64.deb"
   ]
  },
  {
   "cell_type": "code",
   "execution_count": null,
   "metadata": {
    "executionInfo": {
     "elapsed": 7,
     "status": "ok",
     "timestamp": 1753169493184,
     "user": {
      "displayName": "高木颯",
      "userId": "04463275819820463396"
     },
     "user_tz": -540
    },
    "id": "FvFqNkeF8Ltr"
   },
   "outputs": [],
   "source": [
    "\n",
    "# シラバス検索のどの段階かを管理するためのステップ定義\n",
    "class SyllabusStep(Enum):\n",
    "    WAIT_YEAR = auto()      # 年度待ち\n",
    "    WAIT_GAKUBU = auto()    # 学部待ち\n",
    "    WAIT_GAKKI = auto()     # 学期待ち\n",
    "    WAIT_GAKUNEN = auto()   # 学年待ち\n",
    "    WAIT_KEYWORD = auto()   # キーワード待ち\n",
    "\n",
    "# Botの現在の状態を保持するグローバル変数\n",
    "state = State.NORMAL\n",
    "syllabus_step = None\n",
    "syllabus_params = {} # ユーザーからの回答を保存する辞書\n"
   ]
  },
  {
   "cell_type": "code",
   "execution_count": null,
   "metadata": {
    "executionInfo": {
     "elapsed": 599,
     "status": "ok",
     "timestamp": 1753169493848,
     "user": {
      "displayName": "高木颯",
      "userId": "04463275819820463396"
     },
     "user_tz": -540
    },
    "id": "ahz_XOY9fN3C"
   },
   "outputs": [
    {
     "ename": "SyntaxError",
     "evalue": "incomplete input (716964754.py, line 47)",
     "output_type": "error",
     "traceback": [
      "\u001b[1;36m  Cell \u001b[1;32mIn[2], line 47\u001b[1;36m\u001b[0m\n\u001b[1;33m    \"\"\"\u001b[0m\n\u001b[1;37m    ^\u001b[0m\n\u001b[1;31mSyntaxError\u001b[0m\u001b[1;31m:\u001b[0m incomplete input\n"
     ]
    }
   ],
   "source": [
    "\n",
    "import time\n",
    "import re\n",
    "from selenium import webdriver\n",
    "from selenium.webdriver.common.by import By\n",
    "from selenium.webdriver.support.ui import WebDriverWait\n",
    "from selenium.webdriver.support import expected_conditions as EC\n",
    "from selenium.webdriver.support.ui import Select\n",
    "from selenium.common.exceptions import TimeoutException, NoSuchElementException\n",
    "import requests\n",
    "from bs4 import BeautifulSoup\n",
    "from google.colab import userdata  # Colab内だけで安全にID/PASSを取得\n",
    "\n",
    "# 大学サイト・バス時刻表は仮URL\n",
    "UNIVERSITY_URL = \"https://example.com/campusweb\"\n",
    "BUS_SCHEDULE_URL = \"https://example.com/bus_schedule.html\"\n",
    "\n",
    "# WebDriverをセットアップ\n",
    "def setup_driver():\n",
    "    options = webdriver.ChromeOptions()\n",
    "    options.add_argument('--headless')\n",
    "    options.add_argument('--no-sandbox')\n",
    "    options.add_argument('--disable-dev-shm-usage')\n",
    "    options.add_argument('--disable-gpu')\n",
    "    options.add_argument('--window-size=1920,1080')\n",
    "    driver = webdriver.Chrome(options=options)\n",
    "    wait = WebDriverWait(driver, 20)\n",
    "    print(\"ドライバー起動完了\")\n",
    "    return driver, wait\n",
    "\n",
    "# ログインしてシラバス参照ページに移動\n",
    "def login_and_sizi(driver, wait):\n",
    "    print(\"シラバスサイトにログイン中\")\n",
    "    driver.get(UNIVERSITY_URL)\n",
    "    #googleのシークレット機能を使ってコード内に直接passwordを打たない形にする\n",
    "    USER_ID = userdata.get(\"USER_ID\")\n",
    "    PASSWORD = userdata.get(\"PASSWORD\")\n",
    "    wait.until(EC.presence_of_element_located((By.NAME, \"userName\"))).send_keys(USER_ID)\n",
    "    wait.until(EC.presence_of_element_located((By.NAME, \"password\"))).send_keys(PASSWORD)\n",
    "    wait.until(EC.element_to_be_clickable((By.NAME, \"image\"))).click()\n",
    "    print(\"ログイン成功\")\n",
    "    # フレーム切替やシラバス参照リンクのクリックは省略・例として残す\n",
    "    print(\"シラバスページへ遷移完了（フレーム操作は省略）\")\n",
    "\n",
    "\n",
    "\"\"\"\n",
    "ここまで実行して「ログイン成功」と表示されれば、\n",
    "自分の画面上では確認できなくても、裏で自動操作は正常に行われている\n",
    "\"\"\"\n",
    "\n",
    "\n",
    "\n",
    "\"\"\"\n",
    "########################################################################################################################################\n",
    "# バス時刻表取得（仮のHTMLで対応）\n",
    "def get_bus_schedules():\n",
    "    try:\n",
    "        response = requests.get(BUS_SCHEDULE_URL)\n",
    "        response.encoding = response.apparent_encoding\n",
    "        soup = BeautifulSoup(response.text, 'html.parser')\n",
    "        schedules = {\"~~~~\": [], \"~~~~~\": []} #~~~はhtml内の駅名\n",
    "        print(\"バス時刻表の取得完了（仮）\")\n",
    "        return schedules\n",
    "    except Exception as e:\n",
    "        print(f\"バス時刻表の取得に失敗: {e}\")\n",
    "        return None\n",
    "\n",
    "# 授業時限から間に合うバスを計算\n",
    "def maniau_bus(yobi_jigen_str, bus_schedules):\n",
    "    if not bus_schedules:\n",
    "        return \"バス時刻を取得できなかった\"\n",
    "    class_kaisi_jikan = {\"1\": 8*60+50, \"2\": 10*60+45, \"3\": 13*60+15, \"4\": 15*60+10, \"5\": 17*60+5}\n",
    "    match = re.search(r'\\d', yobi_jigen_str)\n",
    "    if not match: return \"時限情報が不明\"\n",
    "    jigen = match.group(0)\n",
    "    kaisi_jikan = class_kaisi_jikan.get(jigen)\n",
    "    if not kaisi_jikan: return f\"{jigen}限の開始時刻が不明\"\n",
    "    osusume = []\n",
    "    stations = {\n",
    "        \"~~~駅\": {\"schedule\": bus_schedules.get(\"hachioji\", []), \"allowance\": 20},\n",
    "        \"~~~駅\": {\"schedule\": bus_schedules.get(\"minamino\", []), \"allowance\": 10}\n",
    "    }\n",
    "    for station_name, info in stations.items():\n",
    "        bus_time_str = \"間に合うバスなし\"\n",
    "        limit_time = kaisi_jikan - info[\"allowance\"]\n",
    "        for osoi_jun in reversed(info[\"schedule\"]):\n",
    "            if osoi_jun <= limit_time:\n",
    "                syuppatu_hour = osoi_jun // 60\n",
    "                syuppatu_min = osoi_jun % 60\n",
    "                bus_time_str = f\"{syuppatu_hour:02d}:{syuppatu_min:02d}発\"\n",
    "                break\n",
    "        osusume.append(f\"{station_name}: {bus_time_str}\")\n",
    "    return \", \".join(osusume)\n",
    "\n",
    "\"\"\"\n",
    "\n",
    "# シラバス検索（簡略化）\n",
    "def kensaku_jikkou(driver, wait, year, gakki, gakubu, gakunen, subject_keyword=\"\", get_details=False, bus_schedules=None):\n",
    "    result_lines = []\n",
    "    nendo_input = driver.find_element(By.ID, \"nendo\")\n",
    "    nendo_input.clear()\n",
    "    nendo_input.send_keys(str(year))\n",
    "    Select(driver.find_element(By.ID, \"jikanwariShozokuCode\")).select_by_value(str(gakubu))\n",
    "    Select(driver.find_element(By.ID, \"gakkiKubunCode\")).select_by_value(str(gakki))\n",
    "    Select(driver.find_element(By.ID, \"nenji\")).select_by_value(str(gakunen))\n",
    "    driver.find_element(By.ID, \"kaikoKamokunm\").clear()\n",
    "    driver.find_element(By.XPATH, \"//input[@value=' 検索開始 ']\").click()\n",
    "    print(\"検索結果を表示中...\")\n",
    "    try:\n",
    "        wait.until(EC.visibility_of_element_located((By.XPATH, \"//table[@class='normal']\")))\n",
    "        print(\"検索結果の表示を確認\")\n",
    "    except TimeoutException:\n",
    "        print(\"--- 検索結果: 0件 ---\")\n",
    "        return \"検索結果: 0件\"\n",
    "    retu_xpath = \"//table[@class='normal']//tr\"\n",
    "    all_retu = driver.find_elements(By.XPATH, retu_xpath)\n",
    "    result_lines.append(f\"--- {len(all_retu) - 1}件の検索ヒット。 ---\\n\")\n",
    "    syorisuru_gyou = []\n",
    "    if subject_keyword:\n",
    "        result_lines.append(f\"--- ここから科目名に「{subject_keyword}」を含むものを探します ---\\n\")\n",
    "        filtered_retu = []\n",
    "        for row in all_retu[1:]:\n",
    "            cells = row.find_elements(By.TAG_NAME, \"td\")\n",
    "            if len(cells) >= 7 and subject_keyword in cells[5].text:\n",
    "                filtered_retu.append(row)\n",
    "        if not filtered_retu:\n",
    "            result_lines.append(\"条件に一致する科目は見つかりませんでした。\")\n",
    "            return \"\".join(result_lines)\n",
    "        syorisuru_gyou = filtered_retu\n",
    "        result_lines.append(f\"--- 絞り込み結果: {len(syorisuru_gyou)}件 ---\\n\")\n",
    "    else:\n",
    "        syorisuru_gyou = all_retu[1:]\n",
    "    if not get_details:\n",
    "        for row in syorisuru_gyou:\n",
    "            cells = row.find_elements(By.TAG_NAME, \"td\")\n",
    "            if len(cells) >= 7:\n",
    "                result_lines.append(f\"科目名: {cells[5].text}, 担当: {cells[6].text}\\n\")\n",
    "        return \"\".join(result_lines)\n",
    "    result_lines.append(f\"--- {len(syorisuru_gyou)}件の科目の詳細情報を処理する ---\\n\")\n",
    "    target_indices = [all_retu.index(row) for row in syorisuru_gyou]\n",
    "    for i in target_indices:\n",
    "        all_retu_reloaded = driver.find_elements(By.XPATH, retu_xpath)\n",
    "        ima_retu = all_retu_reloaded[i]\n",
    "        cells = ima_retu.find_elements(By.TAG_NAME, \"td\")\n",
    "        yobi_jigen_text = cells[3].text.replace(\"\\n\", \"\")\n",
    "        kamoku_mei = cells[5].text\n",
    "        kyoin_mei = cells[6].text\n",
    "        result_lines.append(f\"\\n{i+1}件目: 「{kamoku_mei}」の詳細情報を取得中\\n\")\n",
    "        ima_retu.find_element(By.XPATH, \".//input[@value='参照']\").click()\n",
    "        wait.until(EC.visibility_of_element_located((By.XPATH, \"//th[text()='教室']\")))\n",
    "        kyoshitsu_info = driver.find_element(By.XPATH, \"//th[text()='教室']/following-sibling::td\").text\n",
    "        mani = maniau_bus(yobi_jigen_text, bus_schedules)\n",
    "        match = re.search(r'\\d', yobi_jigen_text)\n",
    "        jigen_display = f\"{match.group(0)}限\" if match else \"不明\"\n",
    "        result_lines.append(f\"  - 科目名: {kamoku_mei}\\n\")\n",
    "        result_lines.append(f\"  - 担当: {kyoin_mei}\\n\")\n",
    "        result_lines.append(f\"  - 教室: {kyoshitsu_info}\\n\")\n",
    "        result_lines.append(f\"  - 時限: {jigen_display}\\n\")\n",
    "        result_lines.append(f\"  - 遅刻回避可能なバス: {mani}\\n\")\n",
    "        driver.back()\n",
    "        print(\"  - フレームを再設定中\")\n",
    "        driver.switch_to.default_content()\n",
    "        wait.until(EC.frame_to_be_available_and_switch_to_it(2))\n",
    "        wait.until(EC.visibility_of_element_located((By.XPATH, \"//table[@class='normal']\")))\n",
    "        print(\"  - 一覧ページに戻る\")\n",
    "    return \"\".join(result_lines)\n",
    "\n",
    "def syllabus_sukureipingu(params):\n",
    "    driver = None\n",
    "    try:\n",
    "        bus_schedules = get_bus_schedules()\n",
    "        driver, wait = setup_driver()\n",
    "        login_and_sizi(driver, wait)\n",
    "        year, gakubu, gakki, gakunen, keyword = params\n",
    "        get_details = True if keyword else False\n",
    "        result_string = kensaku_jikkou(driver, wait, year, gakki, gakubu, gakunen,\n",
    "                                      subject_keyword=keyword, get_details=get_details, bus_schedules=bus_schedules)\n",
    "        return result_string\n",
    "    #例外処理\n",
    "    except Exception as e:\n",
    "        error_message = f\"処理中にエラーが発生しました: {e}\"\n",
    "        print(error_message)\n",
    "        if driver:\n",
    "            try:\n",
    "                driver.save_screenshot('error_screenshot.png')\n",
    "                print(\"'error_screenshot.png' にスクリーンショットを保存\")\n",
    "            except:\n",
    "                pass\n",
    "        return error_message\n",
    "    finally:\n",
    "        if driver:\n",
    "            print(\"\\nドライバーを終了\")\n",
    "            driver.quit()\n"
   ]
  },
  {
   "cell_type": "code",
   "execution_count": null,
   "metadata": {
    "executionInfo": {
     "elapsed": 54,
     "status": "ok",
     "timestamp": 1753169493917,
     "user": {
      "displayName": "高木颯",
      "userId": "04463275819820463396"
     },
     "user_tz": -540
    },
    "id": "bj21E--Xr7l9"
   },
   "outputs": [],
   "source": [
    "import asyncio #非同期処理（ある処理の完了を待たずに次の処理を実行できる方式）が可能\n",
    "\n",
    "async def generateResponse(message):\n",
    "    global state, syllabus_step, syllabus_params\n",
    "    inputText = message.content\n",
    "\n",
    "    # シラバス検索モードの処理\n",
    "    #入力後基本的にその下に記述しているコードを実行\n",
    "    if state == State.SYLLABUS:\n",
    "        if syllabus_step == SyllabusStep.WAIT_YEAR:\n",
    "            syllabus_params['year'] = inputText\n",
    "            syllabus_step = SyllabusStep.WAIT_GAKUBU\n",
    "            await message.channel.send(\"次に学部コードを入力してください\")\n",
    "            return\n",
    "    #↓↓↓↓↓↓↓↓↓↓↓↓↓↓↓↓↓↓↓↓↓↓↓↓↓↓↓↓↓↓\n",
    "        elif syllabus_step == SyllabusStep.WAIT_GAKUBU:\n",
    "            syllabus_params['gakubu'] = inputText\n",
    "            syllabus_step = SyllabusStep.WAIT_GAKKI\n",
    "            await message.channel.send(\"次に学期を入力してください（例: 前期, 後期）\")\n",
    "            return\n",
    "    #↓↓↓↓↓↓↓↓↓↓↓↓↓↓↓↓↓↓↓↓↓↓↓↓↓↓↓↓↓↓\n",
    "        elif syllabus_step == SyllabusStep.WAIT_GAKKI:\n",
    "            syllabus_params['gakki'] = inputText\n",
    "            syllabus_step = SyllabusStep.WAIT_GAKUNEN\n",
    "            await message.channel.send(\"次に対象学年を数字で入力してください（例: 1, 2, 3, 4）\")\n",
    "            return\n",
    "    #↓↓↓↓↓↓↓↓↓↓↓↓↓↓↓↓↓↓↓↓↓↓↓↓↓↓↓↓↓↓\n",
    "        elif syllabus_step == SyllabusStep.WAIT_GAKUNEN:\n",
    "            syllabus_params['gakunen'] = inputText\n",
    "            syllabus_step = SyllabusStep.WAIT_KEYWORD\n",
    "            await message.channel.send(\"最後に検索したい科目名のキーワードを入力してください。\\n（特に指定がなければ「なし」と入力）\")\n",
    "            return\n",
    "    #↓↓↓↓↓↓↓↓↓↓↓↓↓↓↓↓↓↓↓↓↓↓↓↓↓↓↓↓↓↓\n",
    "        elif syllabus_step == SyllabusStep.WAIT_KEYWORD:\n",
    "            if inputText in [\"なし\", \"ない\", \"無し\", \"いらない\"]:\n",
    "                syllabus_params['keyword'] = \"\"\n",
    "            else:\n",
    "                syllabus_params['keyword'] = inputText\n",
    "\n",
    "            await message.channel.send(f\"ありがとうございます。以下の条件で検索します。\\n```{syllabus_params}```\\nウェブサイトにアクセスするため、30秒～1分ほどかかります...\")\n",
    "\n",
    "            # ユーザー入力をウェブサイトで使われる内部コードに変換するための対応表\n",
    "            #以下は検索、出力\n",
    "            gakubu_map = {\n",
    "                \"~~学部\": \"~~\", \"~~\": \"~~\",\n",
    "                \"~~学部\": \"~~\", \"~~\": \"~~\",\n",
    "                \"~~学部\": \"~~\", \"~~\": \"~~\",\n",
    "                \"~~学部\": \"~~\", \"~~\": \"~~\",\n",
    "                \"~~学部\": \"~~\", \"~~\": \"~~\",\n",
    "                \"~~学部\": \"~~\", \"~~\": \"~~\",\n",
    "                \"~~学部\": \"~~\", \"~~\": \"~~\"\n",
    "            }\n",
    "            gakki_map = {\"前期\": \"1\", \"後期\": \"2\"}\n",
    "            nenji_map = {\"1年\": \"1\", \"1\": \"1\", \"2年\": \"2\", \"2\": \"2\", \"3年\": \"3\", \"3\": \"3\", \"4年\": \"4\", \"4\": \"4\"}\n",
    "\n",
    "            # 変換を実行\n",
    "            gakubu_code = gakubu_map.get(syllabus_params.get(\"gakubu\").upper(), syllabus_params.get(\"gakubu\"))\n",
    "            gakki_code = gakki_map.get(syllabus_params.get(\"gakki\"), syllabus_params.get(\"gakki\"))\n",
    "            gakunen_code = nenji_map.get(syllabus_params.get(\"gakunen\"), syllabus_params.get(\"gakunen\"))\n",
    "\n",
    "            loop = asyncio.get_event_loop() # 現在のイベントループ\n",
    "            params_tuple = (\n",
    "                syllabus_params[\"year\"], gakubu_code, gakki_code,\n",
    "                gakunen_code, syllabus_params[\"keyword\"]\n",
    "            )\n",
    "            # 同期関数であるウェブスクレイピング処理を別スレッドで実行し、完了待ち。\n",
    "            result_text = await loop.run_in_executor(None, syllabus_sukureipingu, params_tuple)\n",
    "\n",
    "            if len(result_text) > 1950:\n",
    "                    await message.channel.send(\"結果が長すぎるため、分割して送信します。\")\n",
    "                    for i in range(0, len(result_text), 1950):\n",
    "                        await message.channel.send(f\"```{result_text[i:i+1950]}```\")\n",
    "            else:\n",
    "                    await message.channel.send(f\"```{result_text}```\")\n",
    "\n",
    "            state = State.NORMAL\n",
    "            syllabus_step = None\n",
    "            syllabus_params = {}\n",
    "            return\n",
    "\n",
    "    # --- 通常モードでのコマンド受付 ---\n",
    "    #ここでシラバスモードに入る。年度を送信すると下のセルにあるSyllabusStep.WAIT_YEARを実行する\n",
    "    if \"シラバス\" in inputText:\n",
    "        state = State.SYLLABUS\n",
    "        syllabus_step = SyllabusStep.WAIT_YEAR\n",
    "        syllabus_params = {}\n",
    "        await message.channel.send(\"シラバス検索を開始します。年度を数字で入力してください（例: 2025）\")\n",
    "        return\n"
   ]
  },
  {
   "cell_type": "code",
   "execution_count": 13,
   "metadata": {
    "colab": {
     "base_uri": "https://localhost:8080/"
    },
    "executionInfo": {
     "elapsed": 24070,
     "status": "ok",
     "timestamp": 1753169518006,
     "user": {
      "displayName": "高木颯",
      "userId": "04463275819820463396"
     },
     "user_tz": -540
    },
    "id": "FHyVF5-yXu-h",
    "outputId": "3b83555f-e07c-47f7-fcde-de593fe3922d"
   },
   "outputs": [
    {
     "name": "stdout",
     "output_type": "stream",
     "text": [
      "Requirement already satisfied: discord.py in /usr/local/lib/python3.11/dist-packages (2.5.2)\n",
      "Requirement already satisfied: aiohttp<4,>=3.7.4 in /usr/local/lib/python3.11/dist-packages (from discord.py) (3.11.15)\n",
      "Requirement already satisfied: aiohappyeyeballs>=2.3.0 in /usr/local/lib/python3.11/dist-packages (from aiohttp<4,>=3.7.4->discord.py) (2.6.1)\n",
      "Requirement already satisfied: aiosignal>=1.1.2 in /usr/local/lib/python3.11/dist-packages (from aiohttp<4,>=3.7.4->discord.py) (1.4.0)\n",
      "Requirement already satisfied: attrs>=17.3.0 in /usr/local/lib/python3.11/dist-packages (from aiohttp<4,>=3.7.4->discord.py) (25.3.0)\n",
      "Requirement already satisfied: frozenlist>=1.1.1 in /usr/local/lib/python3.11/dist-packages (from aiohttp<4,>=3.7.4->discord.py) (1.7.0)\n",
      "Requirement already satisfied: multidict<7.0,>=4.5 in /usr/local/lib/python3.11/dist-packages (from aiohttp<4,>=3.7.4->discord.py) (6.6.3)\n",
      "Requirement already satisfied: propcache>=0.2.0 in /usr/local/lib/python3.11/dist-packages (from aiohttp<4,>=3.7.4->discord.py) (0.3.2)\n",
      "Requirement already satisfied: yarl<2.0,>=1.17.0 in /usr/local/lib/python3.11/dist-packages (from aiohttp<4,>=3.7.4->discord.py) (1.20.1)\n",
      "Requirement already satisfied: typing-extensions>=4.2 in /usr/local/lib/python3.11/dist-packages (from aiosignal>=1.1.2->aiohttp<4,>=3.7.4->discord.py) (4.14.1)\n",
      "Requirement already satisfied: idna>=2.0 in /usr/local/lib/python3.11/dist-packages (from yarl<2.0,>=1.17.0->aiohttp<4,>=3.7.4->discord.py) (3.10)\n",
      "Requirement already satisfied: nest_asyncio in /usr/local/lib/python3.11/dist-packages (1.6.0)\n"
     ]
    }
   ],
   "source": [
    "!pip install discord.py\n",
    "!pip install nest_asyncio"
   ]
  },
  {
   "cell_type": "code",
   "execution_count": 14,
   "metadata": {
    "colab": {
     "base_uri": "https://localhost:8080/"
    },
    "executionInfo": {
     "elapsed": 419,
     "status": "ok",
     "timestamp": 1753169518426,
     "user": {
      "displayName": "高木颯",
      "userId": "04463275819820463396"
     },
     "user_tz": -540
    },
    "id": "l2cMZ0oFXwmD",
    "outputId": "fa4d027e-50e3-4e41-e083-0b1a785c4411"
   },
   "outputs": [
    {
     "name": "stderr",
     "output_type": "stream",
     "text": [
      "WARNING:discord.client:PyNaCl is not installed, voice will NOT be supported\n"
     ]
    }
   ],
   "source": [
    "# @title ステップ5-1：Discord Botのクライアント準備\n",
    "import discord\n",
    "import nest_asyncio\n",
    "import settings\n",
    "\n",
    "nest_asyncio.apply()\n",
    "intents = discord.Intents.default()\n",
    "intents.message_content = True\n",
    "client = discord.Client(intents=intents)\n"
   ]
  },
  {
   "cell_type": "code",
   "execution_count": null,
   "metadata": {
    "executionInfo": {
     "elapsed": 8,
     "status": "ok",
     "timestamp": 1753169518434,
     "user": {
      "displayName": "高木颯",
      "userId": "04463275819820463396"
     },
     "user_tz": -540
    },
    "id": "NG8wEvBeXz5y"
   },
   "outputs": [
    {
     "ename": "NameError",
     "evalue": "name 'client' is not defined",
     "output_type": "error",
     "traceback": [
      "\u001b[1;31m---------------------------------------------------------------------------\u001b[0m",
      "\u001b[1;31mNameError\u001b[0m                                 Traceback (most recent call last)",
      "Cell \u001b[1;32mIn[3], line 4\u001b[0m\n\u001b[0;32m      1\u001b[0m \u001b[38;5;66;03m#@title DiscordBotがメッセージを受信した時の処理\u001b[39;00m\n\u001b[0;32m      2\u001b[0m \n\u001b[0;32m      3\u001b[0m \u001b[38;5;66;03m############################# 消すな ################################################################################################\u001b[39;00m\n\u001b[1;32m----> 4\u001b[0m \u001b[38;5;129m@client\u001b[39m\u001b[38;5;241m.\u001b[39mevent\n\u001b[0;32m      5\u001b[0m \u001b[38;5;28;01masync\u001b[39;00m \u001b[38;5;28;01mdef\u001b[39;00m \u001b[38;5;21mon_message\u001b[39m(message):  \u001b[38;5;66;03m# メッセージを受信したときのイベント\u001b[39;00m\n\u001b[0;32m      6\u001b[0m     \u001b[38;5;28;01mif\u001b[39;00m message\u001b[38;5;241m.\u001b[39mauthor\u001b[38;5;241m.\u001b[39mbot:  \u001b[38;5;66;03m# 無限ループしないようにメッセージを送ったのがBot自身なら処理をスキップ\u001b[39;00m\n\u001b[0;32m      7\u001b[0m         \u001b[38;5;28;01mreturn\u001b[39;00m\n",
      "\u001b[1;31mNameError\u001b[0m: name 'client' is not defined"
     ]
    }
   ],
   "source": [
    "#@title DiscordBotがメッセージを受信した時の処理\n",
    "\n",
    "############################# 消さない ################################################################################################\n",
    "@client.event\n",
    "async def on_message(message):  # メッセージを受信したときのイベント\n",
    "    if message.author.bot:  # 無限ループしないようにメッセージを送ったのがBot自身なら処理をスキップ\n",
    "        return\n",
    "    if message.channel.name != settings.channel_name: #####################消すな#################################\n",
    "        return\n",
    "\n",
    "    if message.content.strip():\n",
    "      try:\n",
    "            output = await generateResponse(message)\n",
    "            if output is not None:\n",
    "                await message.channel.send(output)\n",
    "      except Exception as e:\n",
    "            print(f\"エラーが発生しました: {e}\")# メッセージが空でない場合\n",
    "            # エラーの詳細をコンソールに表示するため、トレースバックも出力\n",
    "            import traceback\n",
    "            traceback.print_exc()\n",
    "            await message.channel.send(\"申し訳ありません、処理中にエラーが発生しました。\")\n",
    "######################################################################################################################################\n"
   ]
  },
  {
   "cell_type": "code",
   "execution_count": null,
   "metadata": {
    "executionInfo": {
     "elapsed": 4,
     "status": "ok",
     "timestamp": 1753169518439,
     "user": {
      "displayName": "高木颯",
      "userId": "04463275819820463396"
     },
     "user_tz": -540
    },
    "id": "WubWKzi8wotF"
   },
   "outputs": [],
   "source": []
  },
  {
   "cell_type": "markdown",
   "metadata": {
    "id": "Owndq3pCgNWC"
   },
   "source": [
    "### Botの起動"
   ]
  },
  {
   "cell_type": "code",
   "execution_count": 16,
   "metadata": {
    "colab": {
     "base_uri": "https://localhost:8080/",
     "height": 355
    },
    "executionInfo": {
     "elapsed": 8738329,
     "status": "error",
     "timestamp": 1753178256770,
     "user": {
      "displayName": "高木颯",
      "userId": "04463275819820463396"
     },
     "user_tz": -540
    },
    "id": "4psUyroGXyQv",
    "outputId": "aa2f20ed-c5ba-49ca-84fc-d8346f8f6046"
   },
   "outputs": [
    {
     "name": "stdout",
     "output_type": "stream",
     "text": [
      "ログインしました\n"
     ]
    },
    {
     "ename": "CancelledError",
     "evalue": "",
     "output_type": "error",
     "traceback": [
      "\u001b[0;31m---------------------------------------------------------------------------\u001b[0m",
      "\u001b[0;31mCancelledError\u001b[0m                            Traceback (most recent call last)",
      "\u001b[0;32m/tmp/ipython-input-16-2950451363.py\u001b[0m in \u001b[0;36m<cell line: 1>\u001b[0;34m()\u001b[0m\n\u001b[1;32m      3\u001b[0m     \u001b[0mprint\u001b[0m\u001b[0;34m(\u001b[0m\u001b[0;34m'ログインしました'\u001b[0m\u001b[0;34m)\u001b[0m\u001b[0;34m\u001b[0m\u001b[0;34m\u001b[0m\u001b[0m\n\u001b[1;32m      4\u001b[0m \u001b[0;34m\u001b[0m\u001b[0m\n\u001b[0;32m----> 5\u001b[0;31m \u001b[0;32mawait\u001b[0m \u001b[0mclient\u001b[0m\u001b[0;34m.\u001b[0m\u001b[0mstart\u001b[0m\u001b[0;34m(\u001b[0m\u001b[0msettings\u001b[0m\u001b[0;34m.\u001b[0m\u001b[0mtoken\u001b[0m\u001b[0;34m,\u001b[0m\u001b[0mreconnect\u001b[0m\u001b[0;34m=\u001b[0m\u001b[0;32mTrue\u001b[0m\u001b[0;34m)\u001b[0m  \u001b[0;31m# Botを起動\u001b[0m\u001b[0;34m\u001b[0m\u001b[0;34m\u001b[0m\u001b[0m\n\u001b[0m",
      "\u001b[0;32m/usr/local/lib/python3.11/dist-packages/discord/client.py\u001b[0m in \u001b[0;36mstart\u001b[0;34m(self, token, reconnect)\u001b[0m\n\u001b[1;32m    822\u001b[0m         \"\"\"\n\u001b[1;32m    823\u001b[0m         \u001b[0;32mawait\u001b[0m \u001b[0mself\u001b[0m\u001b[0;34m.\u001b[0m\u001b[0mlogin\u001b[0m\u001b[0;34m(\u001b[0m\u001b[0mtoken\u001b[0m\u001b[0;34m)\u001b[0m\u001b[0;34m\u001b[0m\u001b[0;34m\u001b[0m\u001b[0m\n\u001b[0;32m--> 824\u001b[0;31m         \u001b[0;32mawait\u001b[0m \u001b[0mself\u001b[0m\u001b[0;34m.\u001b[0m\u001b[0mconnect\u001b[0m\u001b[0;34m(\u001b[0m\u001b[0mreconnect\u001b[0m\u001b[0;34m=\u001b[0m\u001b[0mreconnect\u001b[0m\u001b[0;34m)\u001b[0m\u001b[0;34m\u001b[0m\u001b[0;34m\u001b[0m\u001b[0m\n\u001b[0m\u001b[1;32m    825\u001b[0m \u001b[0;34m\u001b[0m\u001b[0m\n\u001b[1;32m    826\u001b[0m     def run(\n",
      "\u001b[0;32m/usr/local/lib/python3.11/dist-packages/discord/client.py\u001b[0m in \u001b[0;36mconnect\u001b[0;34m(self, reconnect)\u001b[0m\n\u001b[1;32m    702\u001b[0m                 \u001b[0mws_params\u001b[0m\u001b[0;34m[\u001b[0m\u001b[0;34m'initial'\u001b[0m\u001b[0;34m]\u001b[0m \u001b[0;34m=\u001b[0m \u001b[0;32mFalse\u001b[0m\u001b[0;34m\u001b[0m\u001b[0;34m\u001b[0m\u001b[0m\n\u001b[1;32m    703\u001b[0m                 \u001b[0;32mwhile\u001b[0m \u001b[0;32mTrue\u001b[0m\u001b[0;34m:\u001b[0m\u001b[0;34m\u001b[0m\u001b[0;34m\u001b[0m\u001b[0m\n\u001b[0;32m--> 704\u001b[0;31m                     \u001b[0;32mawait\u001b[0m \u001b[0mself\u001b[0m\u001b[0;34m.\u001b[0m\u001b[0mws\u001b[0m\u001b[0;34m.\u001b[0m\u001b[0mpoll_event\u001b[0m\u001b[0;34m(\u001b[0m\u001b[0;34m)\u001b[0m\u001b[0;34m\u001b[0m\u001b[0;34m\u001b[0m\u001b[0m\n\u001b[0m\u001b[1;32m    705\u001b[0m             \u001b[0;32mexcept\u001b[0m \u001b[0mReconnectWebSocket\u001b[0m \u001b[0;32mas\u001b[0m \u001b[0me\u001b[0m\u001b[0;34m:\u001b[0m\u001b[0;34m\u001b[0m\u001b[0;34m\u001b[0m\u001b[0m\n\u001b[1;32m    706\u001b[0m                 \u001b[0m_log\u001b[0m\u001b[0;34m.\u001b[0m\u001b[0mdebug\u001b[0m\u001b[0;34m(\u001b[0m\u001b[0;34m'Got a request to %s the websocket.'\u001b[0m\u001b[0;34m,\u001b[0m \u001b[0me\u001b[0m\u001b[0;34m.\u001b[0m\u001b[0mop\u001b[0m\u001b[0;34m)\u001b[0m\u001b[0;34m\u001b[0m\u001b[0;34m\u001b[0m\u001b[0m\n",
      "\u001b[0;32m/usr/local/lib/python3.11/dist-packages/discord/gateway.py\u001b[0m in \u001b[0;36mpoll_event\u001b[0;34m(self)\u001b[0m\n\u001b[1;32m    621\u001b[0m         \"\"\"\n\u001b[1;32m    622\u001b[0m         \u001b[0;32mtry\u001b[0m\u001b[0;34m:\u001b[0m\u001b[0;34m\u001b[0m\u001b[0;34m\u001b[0m\u001b[0m\n\u001b[0;32m--> 623\u001b[0;31m             \u001b[0mmsg\u001b[0m \u001b[0;34m=\u001b[0m \u001b[0;32mawait\u001b[0m \u001b[0mself\u001b[0m\u001b[0;34m.\u001b[0m\u001b[0msocket\u001b[0m\u001b[0;34m.\u001b[0m\u001b[0mreceive\u001b[0m\u001b[0;34m(\u001b[0m\u001b[0mtimeout\u001b[0m\u001b[0;34m=\u001b[0m\u001b[0mself\u001b[0m\u001b[0;34m.\u001b[0m\u001b[0m_max_heartbeat_timeout\u001b[0m\u001b[0;34m)\u001b[0m\u001b[0;34m\u001b[0m\u001b[0;34m\u001b[0m\u001b[0m\n\u001b[0m\u001b[1;32m    624\u001b[0m             \u001b[0;32mif\u001b[0m \u001b[0mmsg\u001b[0m\u001b[0;34m.\u001b[0m\u001b[0mtype\u001b[0m \u001b[0;32mis\u001b[0m \u001b[0maiohttp\u001b[0m\u001b[0;34m.\u001b[0m\u001b[0mWSMsgType\u001b[0m\u001b[0;34m.\u001b[0m\u001b[0mTEXT\u001b[0m\u001b[0;34m:\u001b[0m\u001b[0;34m\u001b[0m\u001b[0;34m\u001b[0m\u001b[0m\n\u001b[1;32m    625\u001b[0m                 \u001b[0;32mawait\u001b[0m \u001b[0mself\u001b[0m\u001b[0;34m.\u001b[0m\u001b[0mreceived_message\u001b[0m\u001b[0;34m(\u001b[0m\u001b[0mmsg\u001b[0m\u001b[0;34m.\u001b[0m\u001b[0mdata\u001b[0m\u001b[0;34m)\u001b[0m\u001b[0;34m\u001b[0m\u001b[0;34m\u001b[0m\u001b[0m\n",
      "\u001b[0;32m/usr/local/lib/python3.11/dist-packages/aiohttp/client_ws.py\u001b[0m in \u001b[0;36mreceive\u001b[0;34m(self, timeout)\u001b[0m\n\u001b[1;32m    332\u001b[0m                         \u001b[0;31m# there is no read timeout.\u001b[0m\u001b[0;34m\u001b[0m\u001b[0;34m\u001b[0m\u001b[0m\n\u001b[1;32m    333\u001b[0m                         \u001b[0;32masync\u001b[0m \u001b[0;32mwith\u001b[0m \u001b[0masync_timeout\u001b[0m\u001b[0;34m.\u001b[0m\u001b[0mtimeout\u001b[0m\u001b[0;34m(\u001b[0m\u001b[0mreceive_timeout\u001b[0m\u001b[0;34m)\u001b[0m\u001b[0;34m:\u001b[0m\u001b[0;34m\u001b[0m\u001b[0;34m\u001b[0m\u001b[0m\n\u001b[0;32m--> 334\u001b[0;31m                             \u001b[0mmsg\u001b[0m \u001b[0;34m=\u001b[0m \u001b[0;32mawait\u001b[0m \u001b[0mself\u001b[0m\u001b[0;34m.\u001b[0m\u001b[0m_reader\u001b[0m\u001b[0;34m.\u001b[0m\u001b[0mread\u001b[0m\u001b[0;34m(\u001b[0m\u001b[0;34m)\u001b[0m\u001b[0;34m\u001b[0m\u001b[0;34m\u001b[0m\u001b[0m\n\u001b[0m\u001b[1;32m    335\u001b[0m                     \u001b[0;32melse\u001b[0m\u001b[0;34m:\u001b[0m\u001b[0;34m\u001b[0m\u001b[0;34m\u001b[0m\u001b[0m\n\u001b[1;32m    336\u001b[0m                         \u001b[0mmsg\u001b[0m \u001b[0;34m=\u001b[0m \u001b[0;32mawait\u001b[0m \u001b[0mself\u001b[0m\u001b[0;34m.\u001b[0m\u001b[0m_reader\u001b[0m\u001b[0;34m.\u001b[0m\u001b[0mread\u001b[0m\u001b[0;34m(\u001b[0m\u001b[0;34m)\u001b[0m\u001b[0;34m\u001b[0m\u001b[0;34m\u001b[0m\u001b[0m\n",
      "\u001b[0;32m/usr/local/lib/python3.11/dist-packages/aiohttp/_websocket/reader_c.cpython-311-x86_64-linux-gnu.so\u001b[0m in \u001b[0;36mread\u001b[0;34m()\u001b[0m\n",
      "\u001b[0;32m/usr/local/lib/python3.11/dist-packages/aiohttp/_websocket/reader_c.cpython-311-x86_64-linux-gnu.so\u001b[0m in \u001b[0;36maiohttp._websocket.reader_c.WebSocketDataQueue.read\u001b[0;34m()\u001b[0m\n",
      "\u001b[0;32m/usr/lib/python3.11/asyncio/futures.py\u001b[0m in \u001b[0;36m__await__\u001b[0;34m(self)\u001b[0m\n\u001b[1;32m    285\u001b[0m         \u001b[0;32mif\u001b[0m \u001b[0;32mnot\u001b[0m \u001b[0mself\u001b[0m\u001b[0;34m.\u001b[0m\u001b[0mdone\u001b[0m\u001b[0;34m(\u001b[0m\u001b[0;34m)\u001b[0m\u001b[0;34m:\u001b[0m\u001b[0;34m\u001b[0m\u001b[0;34m\u001b[0m\u001b[0m\n\u001b[1;32m    286\u001b[0m             \u001b[0mself\u001b[0m\u001b[0;34m.\u001b[0m\u001b[0m_asyncio_future_blocking\u001b[0m \u001b[0;34m=\u001b[0m \u001b[0;32mTrue\u001b[0m\u001b[0;34m\u001b[0m\u001b[0;34m\u001b[0m\u001b[0m\n\u001b[0;32m--> 287\u001b[0;31m             \u001b[0;32myield\u001b[0m \u001b[0mself\u001b[0m  \u001b[0;31m# This tells Task to wait for completion.\u001b[0m\u001b[0;34m\u001b[0m\u001b[0;34m\u001b[0m\u001b[0m\n\u001b[0m\u001b[1;32m    288\u001b[0m         \u001b[0;32mif\u001b[0m \u001b[0;32mnot\u001b[0m \u001b[0mself\u001b[0m\u001b[0;34m.\u001b[0m\u001b[0mdone\u001b[0m\u001b[0;34m(\u001b[0m\u001b[0;34m)\u001b[0m\u001b[0;34m:\u001b[0m\u001b[0;34m\u001b[0m\u001b[0;34m\u001b[0m\u001b[0m\n\u001b[1;32m    289\u001b[0m             \u001b[0;32mraise\u001b[0m \u001b[0mRuntimeError\u001b[0m\u001b[0;34m(\u001b[0m\u001b[0;34m\"await wasn't used with future\"\u001b[0m\u001b[0;34m)\u001b[0m\u001b[0;34m\u001b[0m\u001b[0;34m\u001b[0m\u001b[0m\n",
      "\u001b[0;32m/usr/lib/python3.11/asyncio/tasks.py\u001b[0m in \u001b[0;36m__wakeup\u001b[0;34m(self, future)\u001b[0m\n\u001b[1;32m    347\u001b[0m     \u001b[0;32mdef\u001b[0m \u001b[0m__wakeup\u001b[0m\u001b[0;34m(\u001b[0m\u001b[0mself\u001b[0m\u001b[0;34m,\u001b[0m \u001b[0mfuture\u001b[0m\u001b[0;34m)\u001b[0m\u001b[0;34m:\u001b[0m\u001b[0;34m\u001b[0m\u001b[0;34m\u001b[0m\u001b[0m\n\u001b[1;32m    348\u001b[0m         \u001b[0;32mtry\u001b[0m\u001b[0;34m:\u001b[0m\u001b[0;34m\u001b[0m\u001b[0;34m\u001b[0m\u001b[0m\n\u001b[0;32m--> 349\u001b[0;31m             \u001b[0mfuture\u001b[0m\u001b[0;34m.\u001b[0m\u001b[0mresult\u001b[0m\u001b[0;34m(\u001b[0m\u001b[0;34m)\u001b[0m\u001b[0;34m\u001b[0m\u001b[0;34m\u001b[0m\u001b[0m\n\u001b[0m\u001b[1;32m    350\u001b[0m         \u001b[0;32mexcept\u001b[0m \u001b[0mBaseException\u001b[0m \u001b[0;32mas\u001b[0m \u001b[0mexc\u001b[0m\u001b[0;34m:\u001b[0m\u001b[0;34m\u001b[0m\u001b[0;34m\u001b[0m\u001b[0m\n\u001b[1;32m    351\u001b[0m             \u001b[0;31m# This may also be a cancellation.\u001b[0m\u001b[0;34m\u001b[0m\u001b[0;34m\u001b[0m\u001b[0m\n",
      "\u001b[0;32m/usr/lib/python3.11/asyncio/futures.py\u001b[0m in \u001b[0;36mresult\u001b[0;34m(self)\u001b[0m\n\u001b[1;32m    196\u001b[0m         \u001b[0;32mif\u001b[0m \u001b[0mself\u001b[0m\u001b[0;34m.\u001b[0m\u001b[0m_state\u001b[0m \u001b[0;34m==\u001b[0m \u001b[0m_CANCELLED\u001b[0m\u001b[0;34m:\u001b[0m\u001b[0;34m\u001b[0m\u001b[0;34m\u001b[0m\u001b[0m\n\u001b[1;32m    197\u001b[0m             \u001b[0mexc\u001b[0m \u001b[0;34m=\u001b[0m \u001b[0mself\u001b[0m\u001b[0;34m.\u001b[0m\u001b[0m_make_cancelled_error\u001b[0m\u001b[0;34m(\u001b[0m\u001b[0;34m)\u001b[0m\u001b[0;34m\u001b[0m\u001b[0;34m\u001b[0m\u001b[0m\n\u001b[0;32m--> 198\u001b[0;31m             \u001b[0;32mraise\u001b[0m \u001b[0mexc\u001b[0m\u001b[0;34m\u001b[0m\u001b[0;34m\u001b[0m\u001b[0m\n\u001b[0m\u001b[1;32m    199\u001b[0m         \u001b[0;32mif\u001b[0m \u001b[0mself\u001b[0m\u001b[0;34m.\u001b[0m\u001b[0m_state\u001b[0m \u001b[0;34m!=\u001b[0m \u001b[0m_FINISHED\u001b[0m\u001b[0;34m:\u001b[0m\u001b[0;34m\u001b[0m\u001b[0;34m\u001b[0m\u001b[0m\n\u001b[1;32m    200\u001b[0m             \u001b[0;32mraise\u001b[0m \u001b[0mexceptions\u001b[0m\u001b[0;34m.\u001b[0m\u001b[0mInvalidStateError\u001b[0m\u001b[0;34m(\u001b[0m\u001b[0;34m'Result is not ready.'\u001b[0m\u001b[0;34m)\u001b[0m\u001b[0;34m\u001b[0m\u001b[0;34m\u001b[0m\u001b[0m\n",
      "\u001b[0;31mCancelledError\u001b[0m: "
     ]
    }
   ],
   "source": [
    "@client.event\n",
    "async def on_ready():  # Botが準備完了したときのイベント\n",
    "    print('ログインしました')\n",
    "\n",
    "await client.start(settings.token,reconnect=True)  # Botを起動"
   ]
  }
 ],
 "metadata": {
  "colab": {
   "provenance": []
  },
  "kernelspec": {
   "display_name": "base",
   "language": "python",
   "name": "python3"
  },
  "language_info": {
   "codemirror_mode": {
    "name": "ipython",
    "version": 3
   },
   "file_extension": ".py",
   "mimetype": "text/x-python",
   "name": "python",
   "nbconvert_exporter": "python",
   "pygments_lexer": "ipython3",
   "version": "3.11.7"
  }
 },
 "nbformat": 4,
 "nbformat_minor": 0
}
